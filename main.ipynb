{
 "cells": [
  {
   "cell_type": "code",
   "execution_count": 1,
   "metadata": {},
   "outputs": [
    {
     "name": "stderr",
     "output_type": "stream",
     "text": [
      "/Users/zihanwu/codes/NLP/.conda/lib/python3.11/site-packages/text2vec/utils/get_file.py:16: TqdmWarning: IProgress not found. Please update jupyter and ipywidgets. See https://ipywidgets.readthedocs.io/en/stable/user_install.html\n",
      "  from tqdm.autonotebook import tqdm\n",
      "\u001b[32m2023-06-08 11:06:51.749\u001b[0m | \u001b[34m\u001b[1mDEBUG   \u001b[0m | \u001b[36mtext2vec.sentence_model\u001b[0m:\u001b[36m__init__\u001b[0m:\u001b[36m74\u001b[0m - \u001b[34m\u001b[1mUse device: cpu\u001b[0m\n"
     ]
    }
   ],
   "source": [
    "from text2vec import SentenceModel\n",
    "import numpy as np\n",
    "from numpy.linalg import matrix_rank\n",
    "\n",
    "# sentences = ['如何更换花呗绑定银行卡', '花呗更改绑定银行卡']\n",
    "# sentences are from '/Users/zihanwu/codes/NLP/raw_chat_corpus/tieba-305w/tieba.dialogues\"\n",
    "# example: \n",
    "# 24直播网有免费高清的\t有的\n",
    "# 前排，鲁迷们都起床了吧\t标题说助攻，但是看了那球，真是活生生的讽刺\n",
    "\n",
    "def read_sentences(file_path, max_lines=1000):\n",
    "    sentences = []\n",
    "    with open(file_path, 'r') as f:\n",
    "        for i, line in enumerate(f):\n",
    "            if i > max_lines:\n",
    "                break\n",
    "            for sentence in line.split('\\t'):\n",
    "                sentences.append(sentence.strip())\n",
    "    return sentences\n",
    "\n",
    "\n",
    "sentences = read_sentences('/Users/zihanwu/codes/NLP/raw_chat_corpus/tieba-305w/tieba.dialogues')\n",
    "\n",
    "model = SentenceModel('shibing624/text2vec-base-chinese')\n",
    "embeddings = model.encode(sentences)"
   ]
  },
  {
   "cell_type": "code",
   "execution_count": 2,
   "metadata": {},
   "outputs": [],
   "source": [
    "\n",
    "# compatibility matrix ComMat\n",
    "ComMat = np.zeros((len(sentences), len(sentences)))\n",
    "for i in range(len(sentences)):\n",
    "    for j in range(len(sentences)):\n",
    "        ComMat[i][j] = np.dot(embeddings[i], embeddings[j]) / (np.linalg.norm(embeddings[i]) * np.linalg.norm(embeddings[j]))"
   ]
  },
  {
   "cell_type": "code",
   "execution_count": 3,
   "metadata": {},
   "outputs": [],
   "source": [
    "\n",
    "r = matrix_rank(ComMat)"
   ]
  },
  {
   "cell_type": "code",
   "execution_count": 5,
   "metadata": {},
   "outputs": [
    {
     "ename": "ModuleNotFoundError",
     "evalue": "No module named 'matplotlib'",
     "output_type": "error",
     "traceback": [
      "\u001b[0;31m---------------------------------------------------------------------------\u001b[0m",
      "\u001b[0;31mModuleNotFoundError\u001b[0m                       Traceback (most recent call last)",
      "Cell \u001b[0;32mIn[5], line 3\u001b[0m\n\u001b[1;32m      1\u001b[0m \u001b[39m# do coclustering on ComMat\u001b[39;00m\n\u001b[1;32m      2\u001b[0m \u001b[39mfrom\u001b[39;00m \u001b[39mcoclust\u001b[39;00m\u001b[39m.\u001b[39;00m\u001b[39mcoclustering\u001b[39;00m \u001b[39mimport\u001b[39;00m CoclustInfo\n\u001b[0;32m----> 3\u001b[0m \u001b[39mfrom\u001b[39;00m \u001b[39mcoclust\u001b[39;00m\u001b[39m.\u001b[39;00m\u001b[39mvisualization\u001b[39;00m \u001b[39mimport\u001b[39;00m plot_reorganized_matrix\n\u001b[1;32m      4\u001b[0m \u001b[39mfrom\u001b[39;00m \u001b[39mcoclust\u001b[39;00m\u001b[39m.\u001b[39;00m\u001b[39mevaluation\u001b[39;00m\u001b[39m.\u001b[39;00m\u001b[39mexternal\u001b[39;00m \u001b[39mimport\u001b[39;00m accuracy\n\u001b[1;32m      6\u001b[0m model \u001b[39m=\u001b[39m CoclustInfo(n_row_clusters\u001b[39m=\u001b[39mr, n_col_clusters\u001b[39m=\u001b[39mr, random_state\u001b[39m=\u001b[39m\u001b[39m0\u001b[39m)\n",
      "File \u001b[0;32m~/codes/NLP/.conda/lib/python3.11/site-packages/coclust/visualization/__init__.py:10\u001b[0m\n\u001b[1;32m      3\u001b[0m \u001b[39m\"\"\"\u001b[39;00m\n\u001b[1;32m      4\u001b[0m \u001b[39mThe :mod:`coclust.visualization` module provides functions to visualize\u001b[39;00m\n\u001b[1;32m      5\u001b[0m \u001b[39mdifferent measures or data.\u001b[39;00m\n\u001b[1;32m      6\u001b[0m \u001b[39m\"\"\"\u001b[39;00m\n\u001b[1;32m      8\u001b[0m \u001b[39mimport\u001b[39;00m \u001b[39mlogging\u001b[39;00m\n\u001b[0;32m---> 10\u001b[0m \u001b[39mimport\u001b[39;00m \u001b[39mmatplotlib\u001b[39;00m\u001b[39m.\u001b[39;00m\u001b[39mpyplot\u001b[39;00m \u001b[39mas\u001b[39;00m \u001b[39mplt\u001b[39;00m\n\u001b[1;32m     11\u001b[0m \u001b[39mimport\u001b[39;00m \u001b[39mmatplotlib\u001b[39;00m\u001b[39m.\u001b[39;00m\u001b[39mpatheffects\u001b[39;00m \u001b[39mas\u001b[39;00m \u001b[39mPathEffects\u001b[39;00m\n\u001b[1;32m     12\u001b[0m \u001b[39mimport\u001b[39;00m \u001b[39mnumpy\u001b[39;00m \u001b[39mas\u001b[39;00m \u001b[39mnp\u001b[39;00m\n",
      "\u001b[0;31mModuleNotFoundError\u001b[0m: No module named 'matplotlib'"
     ]
    }
   ],
   "source": [
    "# do coclustering on ComMat\n",
    "from coclust.coclustering import CoclustInfo\n",
    "from coclust.visualization import plot_reorganized_matrix\n",
    "from coclust.evaluation.external import accuracy\n",
    "\n",
    "model = CoclustInfo(n_row_clusters=r, n_col_clusters=r, random_state=0)\n",
    "model.fit(ComMat)\n",
    "\n",
    "# plot_reorganized_matrix(ComMat, model)"
   ]
  }
 ],
 "metadata": {
  "kernelspec": {
   "display_name": "Python 3",
   "language": "python",
   "name": "python3"
  },
  "language_info": {
   "codemirror_mode": {
    "name": "ipython",
    "version": 3
   },
   "file_extension": ".py",
   "mimetype": "text/x-python",
   "name": "python",
   "nbconvert_exporter": "python",
   "pygments_lexer": "ipython3",
   "version": "3.11.3"
  },
  "orig_nbformat": 4
 },
 "nbformat": 4,
 "nbformat_minor": 2
}
